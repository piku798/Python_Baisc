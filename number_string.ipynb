{
  "nbformat": 4,
  "nbformat_minor": 0,
  "metadata": {
    "colab": {
      "provenance": []
    },
    "kernelspec": {
      "name": "python3",
      "display_name": "Python 3"
    },
    "language_info": {
      "name": "python"
    }
  },
  "cells": [
    {
      "cell_type": "code",
      "execution_count": 2,
      "metadata": {
        "colab": {
          "base_uri": "https://localhost:8080/"
        },
        "id": "3ep2XR9Vm0I7",
        "outputId": "4e4d0870-31a6-440c-8c7b-8cb3075a6379"
      },
      "outputs": [
        {
          "output_type": "stream",
          "name": "stdout",
          "text": [
            "7 2 9 5 14 3.5 3 49\n"
          ]
        }
      ],
      "source": [
        "#Numbers and string\n",
        "#arithmetic operations\n",
        "a = 7\n",
        "b = 2\n",
        "c = a+b   # addition\n",
        "d  = a-b   # substraction\n",
        "e = a*b   # multiplication\n",
        "f =  a/b   # float division\n",
        "g =  a//b  # int devision\n",
        "h = a**b  # power\n",
        "print(a,b,c,d,e,f,g,h)"
      ]
    },
    {
      "cell_type": "code",
      "source": [
        "#basic steing operations\n",
        "s = \"hallo world\"\n",
        "print(s[0])     # acess\n",
        "print(len(s))   # length\n",
        "print(s[0:5])   # slice\n",
        "print(s[::-1])   # reverse\n",
        "print(s + \"!\")    # concate\n",
        "print(s * 4)    # repeat"
      ],
      "metadata": {
        "colab": {
          "base_uri": "https://localhost:8080/"
        },
        "id": "NZWkTG4aosPX",
        "outputId": "94a140a6-ce62-4421-bf6e-9d6bf1d04c07"
      },
      "execution_count": 10,
      "outputs": [
        {
          "output_type": "stream",
          "name": "stdout",
          "text": [
            "h\n",
            "11\n",
            "hallo\n",
            "dlrow ollah\n",
            "hallo world!\n",
            "hallo worldhallo worldhallo worldhallo world\n"
          ]
        }
      ]
    },
    {
      "cell_type": "code",
      "source": [
        "# case methods\n",
        "print(s.upper())\n",
        "print(s.lower())\n",
        "print(s.title())\n",
        "print(s.capitalize())"
      ],
      "metadata": {
        "colab": {
          "base_uri": "https://localhost:8080/"
        },
        "id": "-yv-ZU1DpjKV",
        "outputId": "0a713735-3a42-42f2-9e3c-39c2d2d2a387"
      },
      "execution_count": 11,
      "outputs": [
        {
          "output_type": "stream",
          "name": "stdout",
          "text": [
            "HALLO WORLD\n",
            "hallo world\n",
            "Hallo World\n",
            "Hallo world\n"
          ]
        }
      ]
    },
    {
      "cell_type": "code",
      "source": [
        "#search method\n",
        "print(s.find(\"d\"),\n",
        "s.index('w'),\n",
        "s.startswith('h'),\n",
        "s.endswith('d'))\n"
      ],
      "metadata": {
        "colab": {
          "base_uri": "https://localhost:8080/"
        },
        "id": "x2lLJLZbqnlz",
        "outputId": "1424fc95-f34c-4d9c-95cc-a8dacf29c8c6"
      },
      "execution_count": 16,
      "outputs": [
        {
          "output_type": "stream",
          "name": "stdout",
          "text": [
            "10 6 True True\n"
          ]
        }
      ]
    },
    {
      "cell_type": "code",
      "source": [
        "#Trim Methods\n",
        "s.strip() # remove white space from both ends\n",
        "\"  haloo  \".strip()"
      ],
      "metadata": {
        "colab": {
          "base_uri": "https://localhost:8080/",
          "height": 36
        },
        "id": "5RoOMqh6q4Ry",
        "outputId": "2dc4855d-e3b8-4885-f110-8b146a8f8da4"
      },
      "execution_count": 19,
      "outputs": [
        {
          "output_type": "execute_result",
          "data": {
            "text/plain": [
              "'haloo'"
            ],
            "application/vnd.google.colaboratory.intrinsic+json": {
              "type": "string"
            }
          },
          "metadata": {},
          "execution_count": 19
        }
      ]
    },
    {
      "cell_type": "code",
      "source": [
        "#replace\n",
        "\"hallo world\".replace(\"hallo\", \"python\")"
      ],
      "metadata": {
        "colab": {
          "base_uri": "https://localhost:8080/",
          "height": 36
        },
        "id": "aRYu2IC7rfAU",
        "outputId": "6847924d-66ff-4f87-94e7-cb29aa7204bb"
      },
      "execution_count": 21,
      "outputs": [
        {
          "output_type": "execute_result",
          "data": {
            "text/plain": [
              "'python world'"
            ],
            "application/vnd.google.colaboratory.intrinsic+json": {
              "type": "string"
            }
          },
          "metadata": {},
          "execution_count": 21
        }
      ]
    },
    {
      "cell_type": "code",
      "source": [
        "s.split()"
      ],
      "metadata": {
        "colab": {
          "base_uri": "https://localhost:8080/"
        },
        "id": "kZMsBpeUr95m",
        "outputId": "69b2589f-6078-4d50-c761-765085eab362"
      },
      "execution_count": 22,
      "outputs": [
        {
          "output_type": "execute_result",
          "data": {
            "text/plain": [
              "['hallo', 'world']"
            ]
          },
          "metadata": {},
          "execution_count": 22
        }
      ]
    },
    {
      "cell_type": "code",
      "source": [
        "for char in s:\n",
        "  print(char)"
      ],
      "metadata": {
        "colab": {
          "base_uri": "https://localhost:8080/"
        },
        "id": "pPEPiXk_sGn4",
        "outputId": "8c069521-a2aa-46bc-b452-1d8651af9437"
      },
      "execution_count": 27,
      "outputs": [
        {
          "output_type": "stream",
          "name": "stdout",
          "text": [
            "h\n",
            "a\n",
            "l\n",
            "l\n",
            "o\n",
            " \n",
            "w\n",
            "o\n",
            "r\n",
            "l\n",
            "d\n"
          ]
        }
      ]
    },
    {
      "cell_type": "code",
      "source": [
        "#count vowels\n",
        "vowels = \"aeiou\"\n",
        "s = \"hallo world\"\n",
        "count = sum(1 for c in s if c in vowels )\n",
        "print('vowels:' ,count)"
      ],
      "metadata": {
        "colab": {
          "base_uri": "https://localhost:8080/"
        },
        "id": "ey4VVyoYsOXv",
        "outputId": "433e1d25-ef94-426d-f1c9-e031e274da29"
      },
      "execution_count": 29,
      "outputs": [
        {
          "output_type": "stream",
          "name": "stdout",
          "text": [
            "vowels: 3\n"
          ]
        }
      ]
    },
    {
      "cell_type": "code",
      "source": [],
      "metadata": {
        "id": "LuCyDQ5-tmRZ"
      },
      "execution_count": null,
      "outputs": []
    }
  ]
}