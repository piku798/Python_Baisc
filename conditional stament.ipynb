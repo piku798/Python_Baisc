{
 "cells": [
  {
   "cell_type": "code",
   "execution_count": 1,
   "id": "788bfc65-4011-45cb-af6c-e75a6e8ac2f2",
   "metadata": {},
   "outputs": [
    {
     "name": "stdout",
     "output_type": "stream",
     "text": [
      "you are an adult\n"
     ]
    }
   ],
   "source": [
    "# conditional statment\n",
    "age = 22\n",
    "if (age < 18):\n",
    "    print(\"you are a minor \")\n",
    "elif(age == 18):\n",
    "    print(\"just become an adult\")\n",
    "else:\n",
    "    print(\"you are an adult\")"
   ]
  },
  {
   "cell_type": "code",
   "execution_count": 6,
   "id": "b588ca04-1a20-4edd-ba07-d2d894ffbbeb",
   "metadata": {},
   "outputs": [
    {
     "name": "stdout",
     "output_type": "stream",
     "text": [
      " you are a adult\n",
      "you can drive car\n",
      " you are an indian\n"
     ]
    }
   ],
   "source": [
    "# nexted condition\n",
    "age = 22\n",
    "has_adhar = True\n",
    "has_lisence = True\n",
    "if (age >= 18):\n",
    "    print(\" you are a adult\")\n",
    "    if (has_lisence == True):\n",
    "        print(\"you can drive car\")\n",
    "        if(has_adhar == True):\n",
    "            print(\" you are an indian\")\n",
    "        else:\n",
    "            print(\" you are not an indian\")\n",
    "    else:\n",
    "        print(\"you need a driving license\")\n",
    "else:\n",
    "    print(\"you are not a adult\")\n",
    "\n"
   ]
  },
  {
   "cell_type": "code",
   "execution_count": 10,
   "id": "f6a19d9d-a144-4cb0-9541-fc6f86612d3a",
   "metadata": {},
   "outputs": [
    {
     "name": "stdout",
     "output_type": "stream",
     "text": [
      "1\n",
      "2\n",
      "3\n",
      "4\n",
      "5\n",
      "6\n",
      "7\n",
      "8\n",
      "9\n",
      "10\n"
     ]
    }
   ],
   "source": [
    "#Loops\n",
    "# while loops\n",
    "count = 1\n",
    "while (count <= 10):\n",
    "    print(count)\n",
    "    count = count + 1"
   ]
  },
  {
   "cell_type": "code",
   "execution_count": 11,
   "id": "71c50f47-3231-46ba-aa87-972e84d943cd",
   "metadata": {},
   "outputs": [
    {
     "name": "stdout",
     "output_type": "stream",
     "text": [
      "0\n",
      "1\n",
      "2\n",
      "3\n",
      "4\n"
     ]
    }
   ],
   "source": [
    "# for loop\n",
    "for i in range(5):\n",
    "    print(i)"
   ]
  },
  {
   "cell_type": "code",
   "execution_count": 13,
   "id": "a1d0aa9a-ed0c-4979-8538-3e0fd52c7c5a",
   "metadata": {
    "scrolled": true
   },
   "outputs": [
    {
     "name": "stdout",
     "output_type": "stream",
     "text": [
      "apple\n",
      "bannana\n",
      "orange\n",
      "lichi\n"
     ]
    }
   ],
   "source": [
    "fruits = [\"apple\", \"bannana\",\"orange\",\"lichi\"]\n",
    "for fruit in fruits:\n",
    "    print(fruit)"
   ]
  },
  {
   "cell_type": "code",
   "execution_count": 15,
   "id": "fc974907-635f-4132-9715-c05b378f4776",
   "metadata": {},
   "outputs": [
    {
     "name": "stdout",
     "output_type": "stream",
     "text": [
      "apple\n",
      "bannana\n",
      "orange\n"
     ]
    }
   ],
   "source": [
    "fruits = [\"apple\", \"bannana\",\"orange\",\"lichi\"]\n",
    "for fruit in fruits:\n",
    "    print(fruit)\n",
    "    if(fruit == \"orange\"):\n",
    "        break"
   ]
  },
  {
   "cell_type": "code",
   "execution_count": 24,
   "id": "20a57da8-da78-4ebb-a4c4-6ca7304128dc",
   "metadata": {},
   "outputs": [
    {
     "name": "stdout",
     "output_type": "stream",
     "text": [
      "1\n",
      "2\n",
      "4\n",
      "5\n"
     ]
    }
   ],
   "source": [
    "for i in range(1, 6):\n",
    "    if i == 3:\n",
    "        continue\n",
    "    print(i)\n",
    "\n"
   ]
  },
  {
   "cell_type": "code",
   "execution_count": null,
   "id": "634f5591-2fa3-475d-8ec1-534a325a5e60",
   "metadata": {},
   "outputs": [],
   "source": []
  }
 ],
 "metadata": {
  "kernelspec": {
   "display_name": "Python 3 (ipykernel)",
   "language": "python",
   "name": "python3"
  },
  "language_info": {
   "codemirror_mode": {
    "name": "ipython",
    "version": 3
   },
   "file_extension": ".py",
   "mimetype": "text/x-python",
   "name": "python",
   "nbconvert_exporter": "python",
   "pygments_lexer": "ipython3",
   "version": "3.13.1"
  }
 },
 "nbformat": 4,
 "nbformat_minor": 5
}
