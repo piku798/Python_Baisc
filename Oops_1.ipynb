{
  "nbformat": 4,
  "nbformat_minor": 0,
  "metadata": {
    "colab": {
      "provenance": []
    },
    "kernelspec": {
      "name": "python3",
      "display_name": "Python 3"
    },
    "language_info": {
      "name": "python"
    }
  },
  "cells": [
    {
      "cell_type": "code",
      "execution_count": 1,
      "metadata": {
        "colab": {
          "base_uri": "https://localhost:8080/"
        },
        "id": "aOsf4vemGE6s",
        "outputId": "b76f7065-5973-4027-8137-2523859bebf5"
      },
      "outputs": [
        {
          "output_type": "stream",
          "name": "stdout",
          "text": [
            "Brand of the car is tyota and model of the car is corolla\n",
            "Brand of the car is honda and model of the car is civic\n"
          ]
        }
      ],
      "source": [
        "class car:\n",
        "  def __init__(self,brand,model):\n",
        "    self.brand = brand\n",
        "    self.model = model\n",
        "  def display_info(self):\n",
        "    print(f\"Brand of the car is {self.brand} and model of the car is {self.model}\")\n",
        "c1 = car(\"tyota\",\"corolla\")\n",
        "c2 = car(\"honda\",\"civic\")\n",
        "c1.display_info()\n",
        "c2.display_info()"
      ]
    },
    {
      "cell_type": "code",
      "source": [
        "class animal:\n",
        "  def __init__(self,name):\n",
        "    self.name = name\n",
        "  def speak(self):\n",
        "    print(f\"{self.name} dog is speaking\")\n",
        "class dog(animal):\n",
        "    def bark(self):\n",
        "     print(\"dog is barking\")\n",
        "d = dog(\"rahul\")\n",
        "d.bark()\n",
        "d.speak()\n"
      ],
      "metadata": {
        "colab": {
          "base_uri": "https://localhost:8080/"
        },
        "id": "b69r7BARGG6I",
        "outputId": "8c4294b4-dbe1-4801-a1c0-ca1aa32385b5"
      },
      "execution_count": 5,
      "outputs": [
        {
          "output_type": "stream",
          "name": "stdout",
          "text": [
            "dog is brakking\n",
            "rahul dog is speaking\n"
          ]
        }
      ]
    },
    {
      "cell_type": "code",
      "source": [
        "class Bankaccount:\n",
        "  def __init__(self,account_number,balance):\n",
        "    self.account_number = account_number\n",
        "    self.__balance = balance\n",
        "  def getBalance(self):\n",
        "    return self.__balance\n",
        "  def deposit(self,amount):\n",
        "    self.__balance += amount\n",
        "  def withdraw(self,amount):\n",
        "    if amount <= self.__balance:\n",
        "      self.__balance -= amount\n",
        "    else:\n",
        "      print(\"insufficient balance\")\n",
        "B1 = Bankaccount(\"123456789\",1000)\n",
        "print(B1.getBalance())\n",
        "B1.deposit(500)\n",
        "print(B1.getBalance())\n",
        "B1.withdraw(200)\n",
        "print(B1.getBalance())\n",
        "\n",
        "\n",
        "\n",
        "\n"
      ],
      "metadata": {
        "colab": {
          "base_uri": "https://localhost:8080/"
        },
        "id": "dW-43RkGGGc-",
        "outputId": "aa7cd7ac-69e7-40e6-f2b2-d97a29e28693"
      },
      "execution_count": 7,
      "outputs": [
        {
          "output_type": "stream",
          "name": "stdout",
          "text": [
            "1000\n",
            "1500\n",
            "1300\n"
          ]
        }
      ]
    },
    {
      "cell_type": "code",
      "source": [],
      "metadata": {
        "id": "GjKLevaYK19v"
      },
      "execution_count": null,
      "outputs": []
    }
  ]
}