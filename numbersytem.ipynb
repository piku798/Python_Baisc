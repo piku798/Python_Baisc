{
 "cells": [
  {
   "cell_type": "code",
   "execution_count": 1,
   "id": "bc9a1504-5109-4f96-8d6f-266c9cf99760",
   "metadata": {},
   "outputs": [
    {
     "data": {
      "text/plain": [
       "'0b1111'"
      ]
     },
     "execution_count": 1,
     "metadata": {},
     "output_type": "execute_result"
    }
   ],
   "source": [
    "# number system in python\n",
    "# binary\n",
    "#decimal\n",
    "#octal\n",
    "# hexadecimal\n",
    "\n",
    "# deciaml to all\n",
    "a = 15\n",
    "bin(a)"
   ]
  },
  {
   "cell_type": "code",
   "execution_count": 2,
   "id": "5059c44f-5876-4b36-b61a-16a1c62ca8f7",
   "metadata": {},
   "outputs": [
    {
     "data": {
      "text/plain": [
       "'0xf'"
      ]
     },
     "execution_count": 2,
     "metadata": {},
     "output_type": "execute_result"
    }
   ],
   "source": [
    "hex(a)"
   ]
  },
  {
   "cell_type": "code",
   "execution_count": 3,
   "id": "54cf0cfc-a2a4-4cae-b3b1-26e3bb24206c",
   "metadata": {},
   "outputs": [
    {
     "data": {
      "text/plain": [
       "'0o17'"
      ]
     },
     "execution_count": 3,
     "metadata": {},
     "output_type": "execute_result"
    }
   ],
   "source": [
    "oct(a)"
   ]
  },
  {
   "cell_type": "code",
   "execution_count": 7,
   "id": "ab6988b3-edc5-4346-bd20-dac73245fdd7",
   "metadata": {},
   "outputs": [
    {
     "data": {
      "text/plain": [
       "13"
      ]
     },
     "execution_count": 7,
     "metadata": {},
     "output_type": "execute_result"
    }
   ],
   "source": [
    "#binary to decimal\n",
    "a =\"1101\"\n",
    "int(a,2)"
   ]
  },
  {
   "cell_type": "code",
   "execution_count": 8,
   "id": "0e122b98-46b9-4e79-978c-e4a2ab33e508",
   "metadata": {},
   "outputs": [
    {
     "data": {
      "text/plain": [
       "15"
      ]
     },
     "execution_count": 8,
     "metadata": {},
     "output_type": "execute_result"
    }
   ],
   "source": [
    "a = \"17\"\n",
    "int(a,8)"
   ]
  },
  {
   "cell_type": "code",
   "execution_count": 9,
   "id": "013e9f56-6de2-4104-a135-0d7e7152d41d",
   "metadata": {},
   "outputs": [
    {
     "data": {
      "text/plain": [
       "14"
      ]
     },
     "execution_count": 9,
     "metadata": {},
     "output_type": "execute_result"
    }
   ],
   "source": [
    "a = \"e\"\n",
    "int(a,16)"
   ]
  },
  {
   "cell_type": "code",
   "execution_count": null,
   "id": "d58bf881-5733-4664-9373-66dcbd202a00",
   "metadata": {},
   "outputs": [],
   "source": []
  }
 ],
 "metadata": {
  "kernelspec": {
   "display_name": "Python 3 (ipykernel)",
   "language": "python",
   "name": "python3"
  },
  "language_info": {
   "codemirror_mode": {
    "name": "ipython",
    "version": 3
   },
   "file_extension": ".py",
   "mimetype": "text/x-python",
   "name": "python",
   "nbconvert_exporter": "python",
   "pygments_lexer": "ipython3",
   "version": "3.13.1"
  }
 },
 "nbformat": 4,
 "nbformat_minor": 5
}
