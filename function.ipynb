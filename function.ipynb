{
 "cells": [
  {
   "cell_type": "code",
   "execution_count": null,
   "id": "f0a62f5c-fe85-4e45-baf2-ab3d47501270",
   "metadata": {},
   "outputs": [],
   "source": [
    "#Function"
   ]
  },
  {
   "cell_type": "code",
   "execution_count": 3,
   "id": "1cdc8127-a96d-4fc0-91f2-847835923901",
   "metadata": {},
   "outputs": [
    {
     "name": "stdout",
     "output_type": "stream",
     "text": [
      "hallo,wlcome to function series pikun\n"
     ]
    }
   ],
   "source": [
    "def greet(name):\n",
    "    print(f\"hallo,wlcome to function series {name}\")\n",
    "greet(\"pikun\")"
   ]
  },
  {
   "cell_type": "code",
   "execution_count": 5,
   "id": "8173ce19-af6e-4b57-8eb2-2bbdba01036b",
   "metadata": {},
   "outputs": [
    {
     "data": {
      "text/plain": [
       "38"
      ]
     },
     "execution_count": 5,
     "metadata": {},
     "output_type": "execute_result"
    }
   ],
   "source": [
    "def sum(num1,num2):\n",
    "    sum = num1+num2\n",
    "    return sum\n",
    "sum(18,20)"
   ]
  },
  {
   "cell_type": "code",
   "execution_count": 8,
   "id": "ab8b2d5c-ac55-4fba-baab-87bbefbdb9a8",
   "metadata": {},
   "outputs": [
    {
     "name": "stdout",
     "output_type": "stream",
     "text": [
      "Sum: 86\n",
      "Subtraction: -15\n"
     ]
    }
   ],
   "source": [
    "num1 = 20\n",
    "num2 = 30 # global scope\n",
    "\n",
    "def sum_numbers(num1, num2, num3):\n",
    "    num3 = 36 # local scope\n",
    "    result = num1 + num2 + num3\n",
    "    return result\n",
    "\n",
    "def subtraction(num1, num2, num3):\n",
    "    num3 = 5\n",
    "    result = num1 - num2 - num3\n",
    "    return result\n",
    "\n",
    "# Call the functions with required arguments\n",
    "sum_result = sum_numbers(num1, num2, 0)\n",
    "sub_result = subtraction(num1, num2, 0)\n",
    "\n",
    "print(\"Sum:\", sum_result)\n",
    "print(\"Subtraction:\", sub_result)\n",
    "\n"
   ]
  },
  {
   "cell_type": "code",
   "execution_count": 9,
   "id": "f99bf5cd-6185-4b2b-9f46-d16f34ae7eb0",
   "metadata": {},
   "outputs": [
    {
     "data": {
      "text/plain": [
       "75"
      ]
     },
     "execution_count": 9,
     "metadata": {},
     "output_type": "execute_result"
    }
   ],
   "source": [
    "#*args (Non-keyword arguments)\n",
    "#Used to pass a variable number of positional arguments to a function.\n",
    "\n",
    "#Internally, args is a tuple.\n",
    "def sum(*args):\n",
    "    total = 0\n",
    "    for num in args:\n",
    "        total = total + num\n",
    "    return total\n",
    "sum(10,11,12,13,14,15)"
   ]
  },
  {
   "cell_type": "code",
   "execution_count": 10,
   "id": "175b9482-d18e-4531-8e47-ac26c3646815",
   "metadata": {},
   "outputs": [
    {
     "name": "stdout",
     "output_type": "stream",
     "text": [
      "name: Alice\n",
      "age: 25\n",
      "city: Delhi\n"
     ]
    }
   ],
   "source": [
    "def print_details(**kwargs):\n",
    "    for key, value in kwargs.items():\n",
    "        print(f\"{key}: {value}\")\n",
    "\n",
    "print_details(name=\"Alice\", age=25, city=\"Delhi\")\n"
   ]
  },
  {
   "cell_type": "code",
   "execution_count": null,
   "id": "0c4e80d5-ec93-45ef-a32a-9fb727ddbb4b",
   "metadata": {},
   "outputs": [],
   "source": []
  }
 ],
 "metadata": {
  "kernelspec": {
   "display_name": "Python 3 (ipykernel)",
   "language": "python",
   "name": "python3"
  },
  "language_info": {
   "codemirror_mode": {
    "name": "ipython",
    "version": 3
   },
   "file_extension": ".py",
   "mimetype": "text/x-python",
   "name": "python",
   "nbconvert_exporter": "python",
   "pygments_lexer": "ipython3",
   "version": "3.13.1"
  }
 },
 "nbformat": 4,
 "nbformat_minor": 5
}
