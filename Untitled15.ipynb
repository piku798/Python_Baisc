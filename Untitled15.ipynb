{
 "cells": [
  {
   "cell_type": "code",
   "execution_count": 5,
   "id": "ab403c6e-32f7-46e1-88c4-f80f57c63031",
   "metadata": {},
   "outputs": [
    {
     "name": "stdout",
     "output_type": "stream",
     "text": [
      "10 jhon True 5.8\n"
     ]
    }
   ],
   "source": [
    "#Variabel and data types in python\n",
    "#declaring variables\n",
    "# assigning a value to a variable\n",
    "x = 10 # this is a integer\n",
    "name = 'jhon' # this is string\n",
    "Ram_born_in_ayodha = True # Boolean\n",
    "height = 5.8 # Float\n",
    "print(x,name,Ram_born_in_ayodha,height)\n"
   ]
  },
  {
   "cell_type": "code",
   "execution_count": 7,
   "id": "d641f840-f532-4c36-bb7b-6b5c0bca668d",
   "metadata": {},
   "outputs": [],
   "source": [
    "#rules for declaring a variable\n",
    "#Variables are created when you assign a value to them. You don't need to declare their type explicitly.\n",
    "#Variable names must start with a letter (a-z, A-Z) or an underscore (_).\n",
    "#They cannot start with a number.\n",
    "#They can contain letters, numbers, and underscores (_), but no special characters or spaces.\n",
    "#Variable names are case-sensitive (age and Age are different).\n",
    "#Avoid Reserved Keywords"
   ]
  },
  {
   "cell_type": "code",
   "execution_count": 9,
   "id": "555acb20-280e-49f4-88ec-773d47451d17",
   "metadata": {},
   "outputs": [
    {
     "name": "stdout",
     "output_type": "stream",
     "text": [
      "1\n",
      "2\n",
      "3\n"
     ]
    }
   ],
   "source": [
    "#Multiple assignment:\n",
    "a,b,c = 1,2,3\n",
    "print(a)\n",
    "print(b)\n",
    "print(c)\n"
   ]
  },
  {
   "cell_type": "code",
   "execution_count": 10,
   "id": "ebb920f6-3aef-4071-bccf-084323006079",
   "metadata": {},
   "outputs": [
    {
     "name": "stdout",
     "output_type": "stream",
     "text": [
      "0 0 0\n"
     ]
    }
   ],
   "source": [
    "#Same value to multiple variables:\n",
    "x=y=z=0\n",
    "print(x,y,z)\n"
   ]
  },
  {
   "cell_type": "code",
   "execution_count": 17,
   "id": "1d8c9e7c-d278-42fb-adc1-619b08d2dea1",
   "metadata": {},
   "outputs": [
    {
     "ename": "NameError",
     "evalue": "name 'i' is not defined",
     "output_type": "error",
     "traceback": [
      "\u001b[1;31m---------------------------------------------------------------------------\u001b[0m",
      "\u001b[1;31mNameError\u001b[0m                                 Traceback (most recent call last)",
      "Cell \u001b[1;32mIn[17], line 16\u001b[0m\n\u001b[0;32m     14\u001b[0m d \u001b[38;5;241m=\u001b[39m \u001b[38;5;28;01mTrue\u001b[39;00m\n\u001b[0;32m     15\u001b[0m e \u001b[38;5;241m=\u001b[39m \u001b[38;5;28;01mNone\u001b[39;00m\n\u001b[1;32m---> 16\u001b[0m f \u001b[38;5;241m=\u001b[39m \u001b[38;5;241m6\u001b[39m\u001b[38;5;241m+\u001b[39m\u001b[43mi\u001b[49m\n\u001b[0;32m     17\u001b[0m \u001b[38;5;66;03m#to chake data type use type()\u001b[39;00m\n\u001b[0;32m     18\u001b[0m \u001b[38;5;28mprint\u001b[39m(\u001b[38;5;28mtype\u001b[39m(a))\n",
      "\u001b[1;31mNameError\u001b[0m: name 'i' is not defined"
     ]
    }
   ],
   "source": [
    "# data type in variables\n",
    "#Python supports many data types:\n",
    "\n",
    "#int, float, str\n",
    "\n",
    "#bool, complex\n",
    "\n",
    "#list, tuple, dict, set\n",
    "\n",
    "#NoneType\n",
    "a = 42\n",
    "b = 42.4\n",
    "c = \"fourty two\"\n",
    "d = True\n",
    "e = None\n",
    "f = 6+i\n",
    "#to chake data type use type()\n",
    "print(type(a))\n",
    "print(type(b))\n",
    "print(type(c))\n",
    "print(type(d))\n",
    "print(type(e))\n",
    "print(type(f))"
   ]
  },
  {
   "cell_type": "code",
   "execution_count": null,
   "id": "55976f0e-b383-42a8-9f11-0d167579e971",
   "metadata": {},
   "outputs": [],
   "source": []
  }
 ],
 "metadata": {
  "kernelspec": {
   "display_name": "Python 3 (ipykernel)",
   "language": "python",
   "name": "python3"
  },
  "language_info": {
   "codemirror_mode": {
    "name": "ipython",
    "version": 3
   },
   "file_extension": ".py",
   "mimetype": "text/x-python",
   "name": "python",
   "nbconvert_exporter": "python",
   "pygments_lexer": "ipython3",
   "version": "3.13.1"
  }
 },
 "nbformat": 4,
 "nbformat_minor": 5
}
