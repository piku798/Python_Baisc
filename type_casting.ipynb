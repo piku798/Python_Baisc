{
  "nbformat": 4,
  "nbformat_minor": 0,
  "metadata": {
    "colab": {
      "provenance": []
    },
    "kernelspec": {
      "name": "python3",
      "display_name": "Python 3"
    },
    "language_info": {
      "name": "python"
    }
  },
  "cells": [
    {
      "cell_type": "code",
      "execution_count": 3,
      "metadata": {
        "colab": {
          "base_uri": "https://localhost:8080/"
        },
        "id": "_kqiKIKZkC2v",
        "outputId": "dd10eda2-c401-4fb9-804d-4381a38618d6"
      },
      "outputs": [
        {
          "output_type": "stream",
          "name": "stdout",
          "text": [
            "22.0\n",
            "22\n",
            "22\n",
            "22.22\n"
          ]
        }
      ],
      "source": [
        "#type casting in python\n",
        "# int convert to float\n",
        "a = 22\n",
        "c = float(a)\n",
        "print(c)\n",
        "# float convert to int\n",
        "b = 22.22\n",
        "d = int(b)\n",
        "print(d)\n",
        "# string to int\n",
        "e = \"22\"\n",
        "f = int(e)\n",
        "print(f)\n",
        "# string to float\n",
        "g = \"22.22\"\n",
        "h = float(g)\n",
        "print(h)\n"
      ]
    },
    {
      "cell_type": "code",
      "source": [
        "#using isinstance() for chaking the variable type\n",
        "a = 10\n",
        "print(isinstance(a,int))\n",
        "print(isinstance(10.3,(int,float)))"
      ],
      "metadata": {
        "colab": {
          "base_uri": "https://localhost:8080/"
        },
        "id": "d8CLL5NzkFvX",
        "outputId": "3dcb14e8-a372-4a68-ecd7-f6d0c5497305"
      },
      "execution_count": 6,
      "outputs": [
        {
          "output_type": "stream",
          "name": "stdout",
          "text": [
            "True\n",
            "True\n"
          ]
        }
      ]
    },
    {
      "cell_type": "code",
      "source": [
        "# use of type function\n",
        "a = 10\n",
        "print(type(a))"
      ],
      "metadata": {
        "colab": {
          "base_uri": "https://localhost:8080/"
        },
        "id": "hL5yh311kFr1",
        "outputId": "e63f363b-07c2-46aa-c781-910126aae893"
      },
      "execution_count": 7,
      "outputs": [
        {
          "output_type": "stream",
          "name": "stdout",
          "text": [
            "<class 'int'>\n"
          ]
        }
      ]
    },
    {
      "cell_type": "code",
      "source": [
        "#use id function\n",
        "#returns memory address\n",
        "a = 20\n",
        "id(a)"
      ],
      "metadata": {
        "colab": {
          "base_uri": "https://localhost:8080/"
        },
        "id": "0HCPODQbkFpL",
        "outputId": "33e5fad9-de63-4d1b-e8de-955c25afc983"
      },
      "execution_count": 8,
      "outputs": [
        {
          "output_type": "execute_result",
          "data": {
            "text/plain": [
              "10758344"
            ]
          },
          "metadata": {},
          "execution_count": 8
        }
      ]
    },
    {
      "cell_type": "code",
      "source": [],
      "metadata": {
        "id": "Ovdw0dkGmiKP"
      },
      "execution_count": null,
      "outputs": []
    }
  ]
}