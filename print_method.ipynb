{
  "nbformat": 4,
  "nbformat_minor": 0,
  "metadata": {
    "colab": {
      "provenance": []
    },
    "kernelspec": {
      "name": "python3",
      "display_name": "Python 3"
    },
    "language_info": {
      "name": "python"
    }
  },
  "cells": [
    {
      "cell_type": "code",
      "execution_count": 4,
      "metadata": {
        "colab": {
          "base_uri": "https://localhost:8080/"
        },
        "id": "ODcqHTcHuoG_",
        "outputId": "65e021db-fb36-4a40-a094-2bb80b9d6349"
      },
      "outputs": [
        {
          "output_type": "stream",
          "name": "stdout",
          "text": [
            "hallo world\n",
            "15\n",
            "15.5\n",
            "True\n",
            "hallo world 15 15.5 True\n"
          ]
        }
      ],
      "source": [
        "# print function in python\n",
        "# basic\n",
        "print(\"hallo world\")\n",
        "print(15)\n",
        "print(15.5)\n",
        "print(True)\n",
        "print(\"hallo world\",15,15.5,True)"
      ]
    },
    {
      "cell_type": "code",
      "source": [
        "#priting multiple items\n",
        "name = \"pikun\"\n",
        "age = 21\n",
        "print(\"my name is \" ,name, \"my age is\" ,21 )"
      ],
      "metadata": {
        "colab": {
          "base_uri": "https://localhost:8080/"
        },
        "id": "meMCZ8Gmu3Y8",
        "outputId": "c19ae5d5-0436-4052-c186-da5d4506c821"
      },
      "execution_count": 7,
      "outputs": [
        {
          "output_type": "stream",
          "name": "stdout",
          "text": [
            "my name is  pikun my age is 21\n"
          ]
        }
      ]
    },
    {
      "cell_type": "code",
      "source": [
        "# argument in print function\n",
        "print(\"my name is pikun\",\" my age is 21\",sep =\" &\") # separater between values\n",
        "print(\"my name is pikun\", end = \"\")\n",
        "print(\"my age is 21\") # using end arguments\n"
      ],
      "metadata": {
        "colab": {
          "base_uri": "https://localhost:8080/"
        },
        "id": "RV4-u1xDvX3w",
        "outputId": "713582aa-1617-47e7-ccbf-3a3617414b70"
      },
      "execution_count": 10,
      "outputs": [
        {
          "output_type": "stream",
          "name": "stdout",
          "text": [
            "my name is pikun & my age is 21\n",
            "my name is pikunmy age is 21\n"
          ]
        }
      ]
    },
    {
      "cell_type": "code",
      "source": [
        "#formated printing\n",
        "print(\"my name is {} and my age is {}\".format(name,age))"
      ],
      "metadata": {
        "colab": {
          "base_uri": "https://localhost:8080/"
        },
        "id": "RVUiRxEpvxX9",
        "outputId": "f036ecd0-be27-48eb-f669-b21f93a3078f"
      },
      "execution_count": 14,
      "outputs": [
        {
          "output_type": "stream",
          "name": "stdout",
          "text": [
            "my name is pikun and my age is 21\n"
          ]
        }
      ]
    },
    {
      "cell_type": "code",
      "source": [
        "#multine line print\n",
        "''' hi i am pikun\n",
        "my age is 21\n",
        "i am form odisha'''\n"
      ],
      "metadata": {
        "colab": {
          "base_uri": "https://localhost:8080/",
          "height": 36
        },
        "id": "1EWluUhtwYvT",
        "outputId": "540bd65e-70fa-4b0d-95c8-d64a93f6637e"
      },
      "execution_count": 15,
      "outputs": [
        {
          "output_type": "execute_result",
          "data": {
            "text/plain": [
              "' hi i am pikun \\nmy age is 21\\ni am form odisha'"
            ],
            "application/vnd.google.colaboratory.intrinsic+json": {
              "type": "string"
            }
          },
          "metadata": {},
          "execution_count": 15
        }
      ]
    },
    {
      "cell_type": "code",
      "source": [
        "#using f string\n",
        "print(f\"my name is {name} and my age is {age}\")"
      ],
      "metadata": {
        "colab": {
          "base_uri": "https://localhost:8080/"
        },
        "id": "Fiu9wpktw1T1",
        "outputId": "40f820d5-d787-4784-ab72-654066da3625"
      },
      "execution_count": 17,
      "outputs": [
        {
          "output_type": "stream",
          "name": "stdout",
          "text": [
            "my name is pikun and my age is 21\n"
          ]
        }
      ]
    },
    {
      "cell_type": "code",
      "source": [
        "#print in a loop\n",
        "for i in range(3):\n",
        "  print(\"hallo every one\")"
      ],
      "metadata": {
        "colab": {
          "base_uri": "https://localhost:8080/"
        },
        "id": "rtkb2r75xEea",
        "outputId": "b6c4b64f-2c20-440d-dbce-d7a74941f15f"
      },
      "execution_count": 19,
      "outputs": [
        {
          "output_type": "stream",
          "name": "stdout",
          "text": [
            "hallo every one\n",
            "hallo every one\n",
            "hallo every one\n"
          ]
        }
      ]
    },
    {
      "cell_type": "code",
      "source": [],
      "metadata": {
        "id": "frT5D0voxUk3"
      },
      "execution_count": null,
      "outputs": []
    }
  ]
}