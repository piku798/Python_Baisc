{
 "cells": [
  {
   "cell_type": "code",
   "execution_count": 1,
   "id": "d1b4c954-df4a-491a-9c5c-817bd5030648",
   "metadata": {},
   "outputs": [
    {
     "data": {
      "text/plain": [
       "10"
      ]
     },
     "execution_count": 1,
     "metadata": {},
     "output_type": "execute_result"
    }
   ],
   "source": [
    "# in type casting user is pass one argument\n",
    "# complex can not be typecast into int\n",
    "\n",
    "int(\"10\")# string to number possiable if it is only number\n"
   ]
  },
  {
   "cell_type": "code",
   "execution_count": 2,
   "id": "73de3a71-cea9-4109-ad9b-1c550b5a8604",
   "metadata": {},
   "outputs": [
    {
     "data": {
      "text/plain": [
       "(10+0j)"
      ]
     },
     "execution_count": 2,
     "metadata": {},
     "output_type": "execute_result"
    }
   ],
   "source": [
    "complex(10)"
   ]
  },
  {
   "cell_type": "code",
   "execution_count": 3,
   "id": "6634d22e-0d15-4d41-a1cd-bf158f192d1b",
   "metadata": {},
   "outputs": [
    {
     "data": {
      "text/plain": [
       "(10+20j)"
      ]
     },
     "execution_count": 3,
     "metadata": {},
     "output_type": "execute_result"
    }
   ],
   "source": [
    "complex(10,20)\n"
   ]
  },
  {
   "cell_type": "code",
   "execution_count": 11,
   "id": "f7fdc462-0a99-4b43-b1ed-00ecc9a46bb5",
   "metadata": {},
   "outputs": [
    {
     "ename": "TypeError",
     "evalue": "complex() takes at most 2 arguments (3 given)",
     "output_type": "error",
     "traceback": [
      "\u001b[1;31m---------------------------------------------------------------------------\u001b[0m",
      "\u001b[1;31mTypeError\u001b[0m                                 Traceback (most recent call last)",
      "Cell \u001b[1;32mIn[11], line 1\u001b[0m\n\u001b[1;32m----> 1\u001b[0m \u001b[38;5;28;43mcomplex\u001b[39;49m\u001b[43m(\u001b[49m\u001b[38;5;241;43m10\u001b[39;49m\u001b[43m,\u001b[49m\u001b[38;5;241;43m20\u001b[39;49m\u001b[43m,\u001b[49m\u001b[38;5;241;43m30\u001b[39;49m\u001b[43m)\u001b[49m \u001b[38;5;66;03m# complex can take three arguments\u001b[39;00m\n",
      "\u001b[1;31mTypeError\u001b[0m: complex() takes at most 2 arguments (3 given)"
     ]
    }
   ],
   "source": [
    "complex(10,20,30) # complex can take three arguments\n"
   ]
  },
  {
   "cell_type": "code",
   "execution_count": 6,
   "id": "1feb1b73-5ce4-4ec6-baef-8b39b3954213",
   "metadata": {},
   "outputs": [
    {
     "data": {
      "text/plain": [
       "(10.2+20.2j)"
      ]
     },
     "execution_count": 6,
     "metadata": {},
     "output_type": "execute_result"
    }
   ],
   "source": [
    "complex(10.2,20.2)"
   ]
  },
  {
   "cell_type": "code",
   "execution_count": 7,
   "id": "d45ea9ef-22d2-453e-b621-6bdcc69108a0",
   "metadata": {},
   "outputs": [
    {
     "data": {
      "text/plain": [
       "(1+0j)"
      ]
     },
     "execution_count": 7,
     "metadata": {},
     "output_type": "execute_result"
    }
   ],
   "source": [
    "complex(True)"
   ]
  },
  {
   "cell_type": "code",
   "execution_count": 8,
   "id": "b1939484-4fd1-43ac-8e5a-15e1b3d39239",
   "metadata": {},
   "outputs": [
    {
     "data": {
      "text/plain": [
       "0j"
      ]
     },
     "execution_count": 8,
     "metadata": {},
     "output_type": "execute_result"
    }
   ],
   "source": [
    "complex(False)"
   ]
  },
  {
   "cell_type": "code",
   "execution_count": 9,
   "id": "31b9dc3a-c910-4c6e-85a9-3142e38bf1a6",
   "metadata": {},
   "outputs": [
    {
     "data": {
      "text/plain": [
       "(10+10j)"
      ]
     },
     "execution_count": 9,
     "metadata": {},
     "output_type": "execute_result"
    }
   ],
   "source": [
    "complex(10,int('10'))"
   ]
  },
  {
   "cell_type": "code",
   "execution_count": 10,
   "id": "6b279380-cb36-4e6f-b42a-9592d40b0f3c",
   "metadata": {},
   "outputs": [
    {
     "data": {
      "text/plain": [
       "(10+0j)"
      ]
     },
     "execution_count": 10,
     "metadata": {},
     "output_type": "execute_result"
    }
   ],
   "source": [
    "complex('10')"
   ]
  },
  {
   "cell_type": "code",
   "execution_count": 12,
   "id": "79f7e55b-fe06-44da-bfa5-16bb25a3209f",
   "metadata": {},
   "outputs": [],
   "source": [
    "# in boolean zero means false and non xero menas true "
   ]
  },
  {
   "cell_type": "code",
   "execution_count": 13,
   "id": "af387e19-48ca-4034-9899-f5fd8dd681b4",
   "metadata": {},
   "outputs": [
    {
     "data": {
      "text/plain": [
       "False"
      ]
     },
     "execution_count": 13,
     "metadata": {},
     "output_type": "execute_result"
    }
   ],
   "source": [
    "bool()"
   ]
  },
  {
   "cell_type": "code",
   "execution_count": 14,
   "id": "2be41702-2875-451a-9869-b4ca5779359f",
   "metadata": {},
   "outputs": [
    {
     "data": {
      "text/plain": [
       "False"
      ]
     },
     "execution_count": 14,
     "metadata": {},
     "output_type": "execute_result"
    }
   ],
   "source": [
    "bool(\"\")"
   ]
  },
  {
   "cell_type": "code",
   "execution_count": 18,
   "id": "c05942f7-ef6f-4f53-9af0-ef5d87c4631a",
   "metadata": {},
   "outputs": [
    {
     "data": {
      "text/plain": [
       "'(2+9j)'"
      ]
     },
     "execution_count": 18,
     "metadata": {},
     "output_type": "execute_result"
    }
   ],
   "source": [
    "str(2+9j)"
   ]
  },
  {
   "cell_type": "code",
   "execution_count": 19,
   "id": "e91da8a2-d1d2-4594-8e91-62360305741f",
   "metadata": {},
   "outputs": [
    {
     "data": {
      "text/plain": [
       "False"
      ]
     },
     "execution_count": 19,
     "metadata": {},
     "output_type": "execute_result"
    }
   ],
   "source": [
    "bool(0+0j)"
   ]
  },
  {
   "cell_type": "code",
   "execution_count": 20,
   "id": "471166e8-660c-4750-981c-eb22f26c3eae",
   "metadata": {},
   "outputs": [
    {
     "data": {
      "text/plain": [
       "True"
      ]
     },
     "execution_count": 20,
     "metadata": {},
     "output_type": "execute_result"
    }
   ],
   "source": [
    "bool(0+1j)"
   ]
  },
  {
   "cell_type": "code",
   "execution_count": null,
   "id": "4f3c3ea5-1bf9-449e-bdd2-7dc8f532d179",
   "metadata": {},
   "outputs": [],
   "source": []
  }
 ],
 "metadata": {
  "kernelspec": {
   "display_name": "Python 3 (ipykernel)",
   "language": "python",
   "name": "python3"
  },
  "language_info": {
   "codemirror_mode": {
    "name": "ipython",
    "version": 3
   },
   "file_extension": ".py",
   "mimetype": "text/x-python",
   "name": "python",
   "nbconvert_exporter": "python",
   "pygments_lexer": "ipython3",
   "version": "3.13.1"
  }
 },
 "nbformat": 4,
 "nbformat_minor": 5
}
