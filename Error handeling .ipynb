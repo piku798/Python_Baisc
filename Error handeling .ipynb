{
 "cells": [
  {
   "cell_type": "code",
   "execution_count": 1,
   "id": "61ace395-2033-49a6-acbb-823c8310a57c",
   "metadata": {},
   "outputs": [
    {
     "ename": "SyntaxError",
     "evalue": "expected ':' (2625325156.py, line 2)",
     "output_type": "error",
     "traceback": [
      "\u001b[1;36m  Cell \u001b[1;32mIn[1], line 2\u001b[1;36m\u001b[0m\n\u001b[1;33m    if True\u001b[0m\n\u001b[1;37m           ^\u001b[0m\n\u001b[1;31mSyntaxError\u001b[0m\u001b[1;31m:\u001b[0m expected ':'\n"
     ]
    }
   ],
   "source": [
    "# Syntax Error (missing :)\n",
    "if True\n",
    "    print(\"Hello\")\n",
    "\n",
    "# Runtime Error\n",
    "print(10 / 0)  # ZeroDivisionError\n"
   ]
  },
  {
   "cell_type": "code",
   "execution_count": 3,
   "id": "813741e7-9bf1-45bb-aef6-7f1422dba735",
   "metadata": {},
   "outputs": [
    {
     "name": "stdout",
     "output_type": "stream",
     "text": [
      "invalid input\n"
     ]
    }
   ],
   "source": [
    "try:\n",
    "    x = int(\"abc\")\n",
    "except ValueError:\n",
    "    print(\"invalid input\")"
   ]
  },
  {
   "cell_type": "code",
   "execution_count": 10,
   "id": "ac5ad8ea-ddff-41bd-bf3e-3e9823dd4ecd",
   "metadata": {},
   "outputs": [
    {
     "name": "stdin",
     "output_type": "stream",
     "text": [
      "Enter number:  5\n"
     ]
    },
    {
     "name": "stdout",
     "output_type": "stream",
     "text": [
      "2.0\n"
     ]
    }
   ],
   "source": [
    "try:\n",
    "    num = int(input(\"Enter number: \"))\n",
    "    print(10 / num)\n",
    "except ValueError:\n",
    "    print(\"this value can not be accepted\")\n",
    "except ZeroDivisionError:\n",
    "    print(\"zero can't be devided\")"
   ]
  },
  {
   "cell_type": "code",
   "execution_count": 11,
   "id": "2c20e801-7be3-43f6-8215-9c8a862faf5f",
   "metadata": {},
   "outputs": [
    {
     "name": "stdout",
     "output_type": "stream",
     "text": [
      "Error occured list index out of range\n"
     ]
    }
   ],
   "source": [
    "try:\n",
    "    x =[1,2,3]\n",
    "    print(x[5])\n",
    "except Exception as e:\n",
    "    print(\"Error occured\",e)"
   ]
  },
  {
   "cell_type": "code",
   "execution_count": 14,
   "id": "359612ff-5e4c-45f7-a12e-ee9f16c9fab6",
   "metadata": {},
   "outputs": [
    {
     "name": "stdout",
     "output_type": "stream",
     "text": [
      "list index out of range\n"
     ]
    }
   ],
   "source": [
    "try:\n",
    "    x =[1,2,3]\n",
    "    print(x[5])\n",
    "except IndexError:\n",
    "    print(\"list index out of range\")"
   ]
  },
  {
   "cell_type": "code",
   "execution_count": 18,
   "id": "3566d265-674f-4dc4-bebf-c67c98b5eb6f",
   "metadata": {},
   "outputs": [
    {
     "name": "stdin",
     "output_type": "stream",
     "text": [
      "enter the number )\n"
     ]
    },
    {
     "name": "stdout",
     "output_type": "stream",
     "text": [
      "invalid value error\n"
     ]
    }
   ],
   "source": [
    "# using else\n",
    "try:\n",
    "    num = int(input(\"enter the number\"))\n",
    "except ValueError:\n",
    "    print(\"invalid value error\")\n",
    "else:\n",
    "    print(\"you entered\",num)"
   ]
  },
  {
   "cell_type": "code",
   "execution_count": 19,
   "id": "6ba84641-d864-4e3b-bcc3-227f80bf216d",
   "metadata": {},
   "outputs": [
    {
     "name": "stdout",
     "output_type": "stream",
     "text": [
      "File not found.\n",
      "Closing file...\n"
     ]
    }
   ],
   "source": [
    "try:\n",
    "    file = open(\"test.txt\", \"r\")\n",
    "    data = file.read()\n",
    "except FileNotFoundError:\n",
    "    print(\"File not found.\")\n",
    "finally:\n",
    "    print(\"Closing file...\")\n",
    "    try:\n",
    "        file.close()\n",
    "    except:\n",
    "        pass\n"
   ]
  },
  {
   "cell_type": "code",
   "execution_count": 20,
   "id": "498e8e07-4d18-47b5-b396-caeb47e487de",
   "metadata": {},
   "outputs": [
    {
     "name": "stdout",
     "output_type": "stream",
     "text": [
      "Error: Age cannot be negative!\n"
     ]
    }
   ],
   "source": [
    "def check_age(age):\n",
    "    if age < 0:\n",
    "        raise ValueError(\"Age cannot be negative!\")\n",
    "    return age\n",
    "\n",
    "try:\n",
    "    print(check_age(-5))\n",
    "except ValueError as e:\n",
    "    print(\"Error:\", e)\n"
   ]
  },
  {
   "cell_type": "code",
   "execution_count": 23,
   "id": "9675b323-3cb3-4930-80e8-5d28c2f9dd8b",
   "metadata": {},
   "outputs": [
    {
     "name": "stdout",
     "output_type": "stream",
     "text": [
      "Custom Error: You must be 18+ to register.\n"
     ]
    }
   ],
   "source": [
    "class InvalidAgeError(Exception):\n",
    "    pass\n",
    "\n",
    "def check_age(age):\n",
    "    if age < 18:\n",
    "        raise InvalidAgeError(\"You must be 18+ to register.\")\n",
    "    return \"Access granted\"\n",
    "\n",
    "try:\n",
    "    print(check_age(15))\n",
    "except InvalidAgeError as e:\n",
    "    print(\"Custom Error:\", e)\n"
   ]
  },
  {
   "cell_type": "code",
   "execution_count": 24,
   "id": "c69e5a7b-7e30-4ef0-83e4-3518b4d6e19a",
   "metadata": {},
   "outputs": [
    {
     "name": "stdout",
     "output_type": "stream",
     "text": [
      "Zero division error\n"
     ]
    }
   ],
   "source": [
    "try:\n",
    "    value = 10 / 0\n",
    "except ZeroDivisionError:\n",
    "    print(\"Zero division error\")\n",
    "except ArithmeticError:  # Parent class of ZeroDivisionError\n",
    "    print(\"Arithmetic error\")\n",
    "except Exception:\n",
    "    print(\"General error\")\n"
   ]
  },
  {
   "cell_type": "code",
   "execution_count": 26,
   "id": "67b26397-f90d-4cbc-8a1d-7b672d32fa49",
   "metadata": {},
   "outputs": [],
   "source": [
    "import logging\n",
    "\n",
    "logging.basicConfig(filename=\"errors.log\", level=logging.ERROR)\n",
    "\n",
    "try:\n",
    "    x = 10 / 0\n",
    "except Exception as e:\n",
    "    logging.error(\"Error occurred\", exc_info=True)\n"
   ]
  },
  {
   "cell_type": "code",
   "execution_count": 27,
   "id": "adce4497-d422-49fe-8687-88ed23f8fe42",
   "metadata": {},
   "outputs": [
    {
     "name": "stdout",
     "output_type": "stream",
     "text": [
      "File not found!\n"
     ]
    }
   ],
   "source": [
    "try:\n",
    "    with open(\"file.txt\", \"r\") as f:\n",
    "        data = f.read()\n",
    "except FileNotFoundError:\n",
    "    print(\"File not found!\")\n"
   ]
  },
  {
   "cell_type": "code",
   "execution_count": 28,
   "id": "18010007-830d-489c-bdd4-2cc5dd239d56",
   "metadata": {},
   "outputs": [
    {
     "name": "stdout",
     "output_type": "stream",
     "text": [
      "Program continues...\n"
     ]
    }
   ],
   "source": [
    "from contextlib import suppress\n",
    "\n",
    "with suppress(FileNotFoundError):\n",
    "    open(\"nofile.txt\")\n",
    "print(\"Program continues...\")\n"
   ]
  },
  {
   "cell_type": "code",
   "execution_count": 29,
   "id": "2457f210-9373-4c94-a248-f9a44e30d2d4",
   "metadata": {},
   "outputs": [
    {
     "name": "stdout",
     "output_type": "stream",
     "text": [
      "Error chain: invalid literal for int() with base 10: 'abc'\n"
     ]
    }
   ],
   "source": [
    "try:\n",
    "    try:\n",
    "        int(\"abc\")\n",
    "    except ValueError as e:\n",
    "        raise RuntimeError(\"Conversion failed\") from e\n",
    "except RuntimeError as e:\n",
    "    print(\"Error chain:\", e.__cause__)\n"
   ]
  },
  {
   "cell_type": "code",
   "execution_count": 30,
   "id": "07654842-e6f7-4d5a-bdb3-4902735aac8f",
   "metadata": {},
   "outputs": [
    {
     "name": "stdout",
     "output_type": "stream",
     "text": [
      "----- Calculator -----\n",
      "Operations: +, -, *, /, ^ (power), sqrt\n",
      "Type 'exit' to quit\n"
     ]
    },
    {
     "name": "stdin",
     "output_type": "stream",
     "text": [
      "\n",
      "Enter operation:  +\n",
      "Enter first number:  5\n",
      "Enter second number:  6\n"
     ]
    },
    {
     "name": "stdout",
     "output_type": "stream",
     "text": [
      "Result = 11.0\n",
      "✅ Operation attempt finished.\n"
     ]
    },
    {
     "name": "stdin",
     "output_type": "stream",
     "text": [
      "\n",
      "Enter operation:  exit\n"
     ]
    },
    {
     "name": "stdout",
     "output_type": "stream",
     "text": [
      "Goodbye!\n",
      "✅ Operation attempt finished.\n"
     ]
    }
   ],
   "source": [
    "import logging\n",
    "\n",
    "# Configure logging to save errors in a file\n",
    "logging.basicConfig(filename=\"calculator_errors.log\", level=logging.ERROR)\n",
    "\n",
    "# Custom Exception\n",
    "class NegativeNumberError(Exception):\n",
    "    pass\n",
    "\n",
    "def calculator():\n",
    "    print(\"----- Calculator -----\")\n",
    "    print(\"Operations: +, -, *, /, ^ (power), sqrt\")\n",
    "    print(\"Type 'exit' to quit\")\n",
    "    \n",
    "    while True:\n",
    "        try:\n",
    "            # User input\n",
    "            op = input(\"\\nEnter operation: \").strip()\n",
    "            if op.lower() == \"exit\":\n",
    "                print(\"Goodbye!\")\n",
    "                break\n",
    "\n",
    "            # Square root needs only one input\n",
    "            if op == \"sqrt\":\n",
    "                num = float(input(\"Enter number: \"))\n",
    "                if num < 0:\n",
    "                    raise NegativeNumberError(\"Square root of negative number not allowed.\")\n",
    "                print(\"Result =\", num ** 0.5)\n",
    "\n",
    "            else:\n",
    "                num1 = float(input(\"Enter first number: \"))\n",
    "                num2 = float(input(\"Enter second number: \"))\n",
    "\n",
    "                if op == \"+\":\n",
    "                    print(\"Result =\", num1 + num2)\n",
    "                elif op == \"-\":\n",
    "                    print(\"Result =\", num1 - num2)\n",
    "                elif op == \"*\":\n",
    "                    print(\"Result =\", num1 * num2)\n",
    "                elif op == \"/\":\n",
    "                    # ZeroDivisionError handled here\n",
    "                    print(\"Result =\", num1 / num2)\n",
    "                elif op == \"^\":\n",
    "                    print(\"Result =\", num1 ** num2)\n",
    "                else:\n",
    "                    print(\"❌ Invalid operation!\")\n",
    "\n",
    "        except ValueError:\n",
    "            print(\"❌ Invalid input! Please enter numbers only.\")\n",
    "        except ZeroDivisionError:\n",
    "            print(\"❌ Error: Cannot divide by zero.\")\n",
    "        except NegativeNumberError as e:\n",
    "            print(\"❌ Error:\", e)\n",
    "        except Exception as e:\n",
    "            print(\"❌ Unexpected Error:\", e)\n",
    "            logging.error(\"Unexpected error occurred\", exc_info=True)\n",
    "        finally:\n",
    "            print(\"✅ Operation attempt finished.\")\n",
    "            \n",
    "\n",
    "# Run calculator\n",
    "calculator()\n"
   ]
  },
  {
   "cell_type": "code",
   "execution_count": 50,
   "id": "446f1167-23b2-4316-896b-7ed7d5c9add8",
   "metadata": {},
   "outputs": [
    {
     "name": "stdin",
     "output_type": "stream",
     "text": [
      " 0\n",
      " 6\n"
     ]
    },
    {
     "name": "stdout",
     "output_type": "stream",
     "text": [
      "Zero can not be divedeed\n"
     ]
    },
    {
     "name": "stdin",
     "output_type": "stream",
     "text": [
      " EXIT\n"
     ]
    }
   ],
   "source": [
    "while True:\n",
    "    try:\n",
    "        num2 = input()\n",
    "        if num2.lower() == \"exit\":\n",
    "            break\n",
    "        else:\n",
    "            print(int(input())/int(num2))\n",
    "    except ZeroDivisionError:\n",
    "        print(\"Zero can not be divedeed\")"
   ]
  },
  {
   "cell_type": "code",
   "execution_count": null,
   "id": "4565aac3-ec20-4040-8a4f-0d54c2432e9a",
   "metadata": {},
   "outputs": [],
   "source": []
  }
 ],
 "metadata": {
  "kernelspec": {
   "display_name": "Python 3 (ipykernel)",
   "language": "python",
   "name": "python3"
  },
  "language_info": {
   "codemirror_mode": {
    "name": "ipython",
    "version": 3
   },
   "file_extension": ".py",
   "mimetype": "text/x-python",
   "name": "python",
   "nbconvert_exporter": "python",
   "pygments_lexer": "ipython3",
   "version": "3.13.1"
  }
 },
 "nbformat": 4,
 "nbformat_minor": 5
}
