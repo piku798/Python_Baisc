{
 "cells": [
  {
   "cell_type": "code",
   "execution_count": 10,
   "id": "e4eb729f-3062-4e24-a3a5-377e8e4bc713",
   "metadata": {},
   "outputs": [],
   "source": [
    "student = {\n",
    "    \"name\": \"Alice\",                 \n",
    "    \"age\": 21,\n",
    "    \"major\": \"Computer Science\"\n",
    "}\n"
   ]
  },
  {
   "cell_type": "code",
   "execution_count": 11,
   "id": "671a0a6b-c18c-4dbe-8931-3626a23c4040",
   "metadata": {},
   "outputs": [
    {
     "name": "stdout",
     "output_type": "stream",
     "text": [
      "{'name': 'Alice', 'age': 21, 'major': 'Computer Science'}\n"
     ]
    }
   ],
   "source": [
    "print(student)"
   ]
  },
  {
   "cell_type": "code",
   "execution_count": 12,
   "id": "dc3db6ff-bc09-4881-ac85-6e6c8c5f56a7",
   "metadata": {},
   "outputs": [
    {
     "data": {
      "text/plain": [
       "dict"
      ]
     },
     "execution_count": 12,
     "metadata": {},
     "output_type": "execute_result"
    }
   ],
   "source": [
    "type(student)"
   ]
  },
  {
   "cell_type": "code",
   "execution_count": 15,
   "id": "ea784fb2-e8c3-4605-b077-b04f75f38ca6",
   "metadata": {},
   "outputs": [],
   "source": [
    "s = student.copy()"
   ]
  },
  {
   "cell_type": "code",
   "execution_count": 16,
   "id": "07bbd312-b7ce-4819-ab50-c3f91cd15502",
   "metadata": {},
   "outputs": [
    {
     "data": {
      "text/plain": [
       "{'name': 'Alice', 'age': 21, 'major': 'Computer Science'}"
      ]
     },
     "execution_count": 16,
     "metadata": {},
     "output_type": "execute_result"
    }
   ],
   "source": [
    "s\n"
   ]
  },
  {
   "cell_type": "markdown",
   "id": "432f9500-afbf-487f-ae35-f2942735711d",
   "metadata": {},
   "source": [
    "Keys must be unique\n",
    "If you try to use the same key twice, the last one wins.\n",
    "\n",
    "Keys must be immutable\n",
    "You can use strings, numbers, or tuples as keys — but not lists or other dictionaries.\n",
    "\n",
    "Values can be anything\n",
    "Strings, numbers, lists, dictionaries, even functions."
   ]
  },
  {
   "cell_type": "code",
   "execution_count": 18,
   "id": "e1e8d421-85fd-4864-99a8-ec9abacd368f",
   "metadata": {},
   "outputs": [
    {
     "name": "stdout",
     "output_type": "stream",
     "text": [
      "Alice\n"
     ]
    }
   ],
   "source": [
    "print(s[\"name\"])"
   ]
  },
  {
   "cell_type": "code",
   "execution_count": 19,
   "id": "cfb02807-ca6f-4d3d-977e-088934d3dbad",
   "metadata": {},
   "outputs": [
    {
     "data": {
      "text/plain": [
       "'Alice'"
      ]
     },
     "execution_count": 19,
     "metadata": {},
     "output_type": "execute_result"
    }
   ],
   "source": [
    "s.get(\"name\")"
   ]
  },
  {
   "cell_type": "code",
   "execution_count": 20,
   "id": "0e4abff3-e2e1-418c-bddf-f51bf511ce48",
   "metadata": {},
   "outputs": [],
   "source": [
    "s[\"city\"] = \"kendrapara\""
   ]
  },
  {
   "cell_type": "code",
   "execution_count": 21,
   "id": "1f8607f2-3f78-4d1c-a9a0-1cf0e0148ebb",
   "metadata": {},
   "outputs": [],
   "source": [
    "s[\"age\"] = 26"
   ]
  },
  {
   "cell_type": "code",
   "execution_count": 22,
   "id": "63afb13d-cc25-4350-87f5-26244a41bc33",
   "metadata": {},
   "outputs": [
    {
     "data": {
      "text/plain": [
       "{'name': 'Alice', 'age': 26, 'major': 'Computer Science', 'city': 'kendrapara'}"
      ]
     },
     "execution_count": 22,
     "metadata": {},
     "output_type": "execute_result"
    }
   ],
   "source": [
    "s"
   ]
  },
  {
   "cell_type": "code",
   "execution_count": 23,
   "id": "39a4001c-811e-4cc4-b4ca-4ebb5f46fb44",
   "metadata": {},
   "outputs": [
    {
     "data": {
      "text/plain": [
       "{'a': 56, 'b': 56, 'c': 56}"
      ]
     },
     "execution_count": 23,
     "metadata": {},
     "output_type": "execute_result"
    }
   ],
   "source": [
    "keys = [\"a\",\"b\",\"c\"]\n",
    "d = dict.fromkeys(keys,56)\n",
    "d"
   ]
  },
  {
   "cell_type": "code",
   "execution_count": 24,
   "id": "6f46cb52-e223-4099-8fa4-8ccfe7eceeba",
   "metadata": {},
   "outputs": [
    {
     "data": {
      "text/plain": [
       "dict_items([('name', 'Alice'), ('age', 26), ('major', 'Computer Science'), ('city', 'kendrapara')])"
      ]
     },
     "execution_count": 24,
     "metadata": {},
     "output_type": "execute_result"
    }
   ],
   "source": [
    "s.items()"
   ]
  },
  {
   "cell_type": "code",
   "execution_count": 25,
   "id": "15721e16-a2cd-4b4d-8e8e-7356ad222d9a",
   "metadata": {},
   "outputs": [
    {
     "data": {
      "text/plain": [
       "dict_keys(['name', 'age', 'major', 'city'])"
      ]
     },
     "execution_count": 25,
     "metadata": {},
     "output_type": "execute_result"
    }
   ],
   "source": [
    "s.keys()"
   ]
  },
  {
   "cell_type": "code",
   "execution_count": 26,
   "id": "617ae98b-e5a5-4119-8856-11ac53467476",
   "metadata": {},
   "outputs": [
    {
     "data": {
      "text/plain": [
       "('c', 56)"
      ]
     },
     "execution_count": 26,
     "metadata": {},
     "output_type": "execute_result"
    }
   ],
   "source": [
    "d.popitem()"
   ]
  },
  {
   "cell_type": "code",
   "execution_count": 29,
   "id": "2a6866f7-c328-435a-a8b8-61b0b830ed12",
   "metadata": {},
   "outputs": [
    {
     "data": {
      "text/plain": [
       "56"
      ]
     },
     "execution_count": 29,
     "metadata": {},
     "output_type": "execute_result"
    }
   ],
   "source": [
    "d.pop(\"a\")"
   ]
  },
  {
   "cell_type": "code",
   "execution_count": 30,
   "id": "82d735d6-18d1-4490-ba25-69f91e834573",
   "metadata": {},
   "outputs": [
    {
     "data": {
      "text/plain": [
       "{'b': 56}"
      ]
     },
     "execution_count": 30,
     "metadata": {},
     "output_type": "execute_result"
    }
   ],
   "source": [
    "d\n"
   ]
  },
  {
   "cell_type": "code",
   "execution_count": 31,
   "id": "542e498a-1278-4921-afc4-f9c4502b0b66",
   "metadata": {},
   "outputs": [
    {
     "name": "stdout",
     "output_type": "stream",
     "text": [
      "1\n",
      "200\n",
      "{'a': 1, 'b': 200}\n"
     ]
    }
   ],
   "source": [
    "d = {\"a\": 1}\n",
    "print(d.setdefault(\"a\", 100))  # 1\n",
    "print(d.setdefault(\"b\", 200))  # 200\n",
    "print(d)  # {'a': 1, 'b': 200}"
   ]
  },
  {
   "cell_type": "code",
   "execution_count": 33,
   "id": "916d2c38-8b1f-4a6e-af90-8563a39f599c",
   "metadata": {},
   "outputs": [
    {
     "data": {
      "text/plain": [
       "dict_values([1, 200])"
      ]
     },
     "execution_count": 33,
     "metadata": {},
     "output_type": "execute_result"
    }
   ],
   "source": [
    "d.values()"
   ]
  },
  {
   "cell_type": "code",
   "execution_count": 34,
   "id": "891f5071-dd14-470f-8c28-ca774569028a",
   "metadata": {},
   "outputs": [
    {
     "name": "stdout",
     "output_type": "stream",
     "text": [
      "{'a': 1, 'b': 2}\n"
     ]
    }
   ],
   "source": [
    "d1 = {\"a\": 1}\n",
    "d2 = {\"b\": 2}\n",
    "d3 = d1 | d2\n",
    "print(d3)  # {'a': 1, 'b': 2}\n"
   ]
  },
  {
   "cell_type": "code",
   "execution_count": 35,
   "id": "96ab196a-bdba-4090-81b8-48f21fae2c34",
   "metadata": {},
   "outputs": [
    {
     "name": "stdout",
     "output_type": "stream",
     "text": [
      "{'a': 1, 'b': 2}\n"
     ]
    }
   ],
   "source": [
    "d1 = {\"a\": 1}\n",
    "d2 = {\"b\": 2}\n",
    "d1 |= d2\n",
    "print(d1)  # {'a': 1, 'b': 2}\n"
   ]
  },
  {
   "cell_type": "markdown",
   "id": "410ea716-f477-4d79-badd-502b0b266528",
   "metadata": {},
   "source": [
    "THIS IS ALL ABOUT PYTHON BASIC METHOD"
   ]
  },
  {
   "cell_type": "code",
   "execution_count": 40,
   "id": "10bead8a-3e92-440f-b63a-36a83d24f054",
   "metadata": {},
   "outputs": [
    {
     "name": "stdout",
     "output_type": "stream",
     "text": [
      "a : 1\n",
      "b : 2\n",
      "c : 3\n"
     ]
    }
   ],
   "source": [
    "s = {\"a\": 1, \"b\": 2, \"c\": 3}\n",
    "\n",
    "for key,value in s.items():\n",
    "    print(key,\":\",value)"
   ]
  },
  {
   "cell_type": "code",
   "execution_count": 41,
   "id": "6b89c542-d79e-4a85-b7cd-663caa8e494a",
   "metadata": {},
   "outputs": [
    {
     "name": "stdout",
     "output_type": "stream",
     "text": [
      "name\n",
      "age\n",
      "city\n"
     ]
    }
   ],
   "source": [
    "data = {\"name\": \"Alice\", \"age\": 25, \"city\": \"London\"}\n",
    "\n",
    "for key in data:\n",
    "    print(key)  # name, age, city\n"
   ]
  },
  {
   "cell_type": "code",
   "execution_count": 44,
   "id": "d3b55113-7113-4c30-a702-7cd5aee40796",
   "metadata": {},
   "outputs": [
    {
     "name": "stdout",
     "output_type": "stream",
     "text": [
      "Alice\n",
      "25\n",
      "London\n"
     ]
    }
   ],
   "source": [
    "for value in data.values():\n",
    "    print(value)"
   ]
  },
  {
   "cell_type": "code",
   "execution_count": 46,
   "id": "0a4dff72-c1bd-49e3-bd39-243c9374472f",
   "metadata": {},
   "outputs": [
    {
     "name": "stdout",
     "output_type": "stream",
     "text": [
      "name:Alice\n",
      "age:25\n",
      "city:London\n"
     ]
    }
   ],
   "source": [
    "for key,value in data.items():\n",
    "    print(f\"{key}:{value}\")"
   ]
  },
  {
   "cell_type": "code",
   "execution_count": null,
   "id": "42f64a94-2be6-4fcf-811b-9974705c42e1",
   "metadata": {},
   "outputs": [],
   "source": []
  }
 ],
 "metadata": {
  "kernelspec": {
   "display_name": "Python 3 (ipykernel)",
   "language": "python",
   "name": "python3"
  },
  "language_info": {
   "codemirror_mode": {
    "name": "ipython",
    "version": 3
   },
   "file_extension": ".py",
   "mimetype": "text/x-python",
   "name": "python",
   "nbconvert_exporter": "python",
   "pygments_lexer": "ipython3",
   "version": "3.13.1"
  }
 },
 "nbformat": 4,
 "nbformat_minor": 5
}
