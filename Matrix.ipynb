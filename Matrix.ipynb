{
  "nbformat": 4,
  "nbformat_minor": 0,
  "metadata": {
    "colab": {
      "provenance": []
    },
    "kernelspec": {
      "name": "python3",
      "display_name": "Python 3"
    },
    "language_info": {
      "name": "python"
    }
  },
  "cells": [
    {
      "cell_type": "code",
      "execution_count": 9,
      "metadata": {
        "colab": {
          "base_uri": "https://localhost:8080/"
        },
        "id": "gCz0PHXHuQNv",
        "outputId": "9dfbbc40-0adc-407f-ada5-dc7a8af91f6c"
      },
      "outputs": [
        {
          "output_type": "stream",
          "name": "stdout",
          "text": [
            "1\n",
            "2\n",
            "3\n",
            "1\n",
            "2\n",
            "3\n",
            "1\n",
            "2\n",
            "3\n",
            "3\n",
            "1\n",
            "2\n",
            "3\n"
          ]
        }
      ],
      "source": [
        "# creating matrix using list\n",
        "mat = [[1,2,3],[1,2,3],[1,2,3]]\n",
        "for i in range(len(mat)):\n",
        "    for j in range(len(mat[i])):\n",
        "        print(mat[i][j])\n",
        "print(mat[i][j])\n",
        "print(mat[0][0])\n",
        "print(mat[0][1])\n",
        "print(mat[0][2])"
      ]
    },
    {
      "cell_type": "code",
      "source": [
        "rows = int(input(\"Enter the number of rows: \"))\n",
        "col = int(input(\"Enter the number of columns: \"))\n",
        "mat = []\n",
        "for i in range(rows):\n",
        "    a = []\n",
        "    for j in range(col):\n",
        "        a.append(int(input()))\n",
        "    mat.append(a)\n",
        "for i in range(rows):\n",
        "    for j in range(col):\n",
        "        print(mat[i][j], end = \" \")\n",
        "    print()"
      ],
      "metadata": {
        "colab": {
          "base_uri": "https://localhost:8080/"
        },
        "id": "YEL64Bmruebf",
        "outputId": "b0891c7e-aefd-4a8e-9f94-6fc727e484b3"
      },
      "execution_count": 10,
      "outputs": [
        {
          "output_type": "stream",
          "name": "stdout",
          "text": [
            "Enter the number of rows: 2\n",
            "Enter the number of columns: 3\n",
            "1\n",
            "2\n",
            "3\n",
            "4\n",
            "5\n",
            "6\n",
            "1 2 3 \n",
            "4 5 6 \n"
          ]
        }
      ]
    },
    {
      "cell_type": "code",
      "source": [
        "matrix = [[col for col in range(4)] for row in range(4)]\n",
        "print(matrix)"
      ],
      "metadata": {
        "colab": {
          "base_uri": "https://localhost:8080/"
        },
        "id": "cuvQwEP-wvVK",
        "outputId": "e41b96a2-c4f2-4048-9372-c914167a01ce"
      },
      "execution_count": 11,
      "outputs": [
        {
          "output_type": "stream",
          "name": "stdout",
          "text": [
            "[[0, 1, 2, 3], [0, 1, 2, 3], [0, 1, 2, 3], [0, 1, 2, 3]]\n"
          ]
        }
      ]
    },
    {
      "cell_type": "code",
      "source": [
        "x = [[1, 2, 3],[4, 5, 6],[7, 8, 9]]\n",
        "y = [[9, 8, 7],[6, 5, 4],[3, 2, 1]]\n"
      ],
      "metadata": {
        "colab": {
          "base_uri": "https://localhost:8080/"
        },
        "id": "qcvxH6OTxj0S",
        "outputId": "5c8dabf8-6765-457a-9f4d-71a3d28002e3"
      },
      "execution_count": 12,
      "outputs": [
        {
          "output_type": "stream",
          "name": "stdout",
          "text": [
            "[[1, 2, 3], [4, 5, 6], [7, 8, 9], [9, 8, 7], [6, 5, 4], [3, 2, 1]]\n"
          ]
        }
      ]
    },
    {
      "cell_type": "code",
      "source": [
        "print(len(x[0]))\n"
      ],
      "metadata": {
        "colab": {
          "base_uri": "https://localhost:8080/"
        },
        "id": "ZMPhyayKyTR9",
        "outputId": "39e07237-6f4f-4456-d0aa-487a832670fd"
      },
      "execution_count": 15,
      "outputs": [
        {
          "output_type": "stream",
          "name": "stdout",
          "text": [
            "3\n"
          ]
        }
      ]
    },
    {
      "cell_type": "code",
      "source": [
        "res = [[0]*3 for _ in range(3)]\n",
        "\n",
        "for i in range(len(x)):\n",
        "    for j in range(len(x[0])):\n",
        "        res[i][j] = x[i][j] + y[i][j]\n",
        "\n",
        "for r in res:\n",
        "    print(r)"
      ],
      "metadata": {
        "colab": {
          "base_uri": "https://localhost:8080/"
        },
        "id": "YYEmfoHPyjbM",
        "outputId": "cb605ee0-b060-42b3-e2a7-83fa1794beb9"
      },
      "execution_count": 17,
      "outputs": [
        {
          "output_type": "stream",
          "name": "stdout",
          "text": [
            "[10, 10, 10]\n",
            "[10, 10, 10]\n",
            "[10, 10, 10]\n"
          ]
        }
      ]
    },
    {
      "cell_type": "code",
      "source": [
        "add_res = [[x[i][j] + y[i][j] for j in range(len(x[0]))] for i in range(len(x))]"
      ],
      "metadata": {
        "id": "dLTukAs3y-67"
      },
      "execution_count": 18,
      "outputs": []
    },
    {
      "cell_type": "code",
      "source": [
        "add_res"
      ],
      "metadata": {
        "colab": {
          "base_uri": "https://localhost:8080/"
        },
        "id": "akdkNOMMzTiJ",
        "outputId": "46850875-e502-48cb-f033-97e0c72569d6"
      },
      "execution_count": 19,
      "outputs": [
        {
          "output_type": "execute_result",
          "data": {
            "text/plain": [
              "[[10, 10, 10], [10, 10, 10], [10, 10, 10]]"
            ]
          },
          "metadata": {},
          "execution_count": 19
        }
      ]
    },
    {
      "cell_type": "code",
      "source": [
        "# Matrix addition\n",
        "add_res = [[x[i][j] + y[i][j] for j in range(len(x[0]))] for i in range(len(x))]\n",
        "\n",
        "# Matrix subtraction\n",
        "sub_res = [[x[i][j] - y[i][j] for j in range(len(x[0]))] for i in range(len(x))]\n",
        "\n",
        "\n",
        "print(\"Matrix Addition:\")\n",
        "for row in add_res:\n",
        "    print(row)\n",
        "\n",
        "print(\"\\nMatrix Subtraction:\")\n",
        "for row in sub_res:\n",
        "    print(row)"
      ],
      "metadata": {
        "colab": {
          "base_uri": "https://localhost:8080/"
        },
        "id": "BYX2Z4P5zXvv",
        "outputId": "9ba8cf46-c16e-482d-b8af-6cd92c451013"
      },
      "execution_count": 20,
      "outputs": [
        {
          "output_type": "stream",
          "name": "stdout",
          "text": [
            "Matrix Addition:\n",
            "[10, 10, 10]\n",
            "[10, 10, 10]\n",
            "[10, 10, 10]\n",
            "\n",
            "Matrix Subtraction:\n",
            "[-8, -6, -4]\n",
            "[-2, 0, 2]\n",
            "[4, 6, 8]\n"
          ]
        }
      ]
    },
    {
      "cell_type": "code",
      "source": [
        "import numpy as np\n",
        "arr = np.random.randint(1,10,size=(3,3))\n",
        "print(arr)"
      ],
      "metadata": {
        "colab": {
          "base_uri": "https://localhost:8080/"
        },
        "id": "PvKdcHpZzeOY",
        "outputId": "6dab65c3-e990-457c-ac80-f66921c89707"
      },
      "execution_count": 22,
      "outputs": [
        {
          "output_type": "stream",
          "name": "stdout",
          "text": [
            "[[4 8 6]\n",
            " [2 8 5]\n",
            " [7 1 4]]\n"
          ]
        }
      ]
    },
    {
      "cell_type": "code",
      "source": [
        "import numpy as np\n",
        "\n",
        "# Use a 2x2 square matrix to avoid errors in operations like inverse, determinant, etc.\n",
        "x = np.array([[1, 2], [3, 4]])\n",
        "y = np.array([[5, 6], [7, 8]])\n",
        "\n",
        "print(\"Addition:\\n\", np.add(x, y))\n",
        "print(\"Subtraction:\\n\", np.subtract(x, y))\n",
        "print(\"Element-wise Multiplication:\\n\", np.multiply(x, y))\n",
        "print(\"Element-wise Division:\\n\", np.divide(x, y))\n",
        "print(\"Dot Product:\\n\", np.dot(x, y))\n",
        "print(\"Matrix Multiplication (matmul):\\n\", np.matmul(x, y))\n",
        "print(\"Transpose of x:\\n\", np.transpose(x))\n",
        "print(\"Inverse of x:\\n\", np.linalg.inv(x))\n",
        "print(\"Determinant of x:\\n\", np.linalg.det(x))\n",
        "print(\"Rank of x:\\n\", np.linalg.matrix_rank(x))\n",
        "print(\"Eigenvalues and Eigenvectors of x:\\n\", np.linalg.eig(x))\n",
        "print(\"Singular Value Decomposition (SVD) of x:\\n\", np.linalg.svd(x))\n",
        "print(\"Cholesky Decomposition of x + I:\\n\", np.linalg.cholesky(x + np.eye(2)))  # x must be positive-definite\n",
        "print(\"QR Decomposition of x:\\n\", np.linalg.qr(x))\n",
        "print(\"Solve Ax = y:\\n\", np.linalg.solve(x, y))\n",
        "print(\"Least Squares solution:\\n\", np.linalg.lstsq(x, y, rcond=None))\n",
        "print(\"Pseudo-inverse of x:\\n\", np.linalg.pinv(x))\n",
        "print(\"Norm of x:\\n\", np.linalg.norm(x))\n",
        "print(\"Condition number of x:\\n\", np.linalg.cond(x))\n",
        "print(\"Sign and log(det(x)):\\n\", np.linalg.slogdet(x))\n"
      ],
      "metadata": {
        "colab": {
          "base_uri": "https://localhost:8080/"
        },
        "id": "94eU7faW0fZ1",
        "outputId": "13374b2d-b06b-4e33-afc1-6091230125d0"
      },
      "execution_count": 28,
      "outputs": [
        {
          "output_type": "stream",
          "name": "stdout",
          "text": [
            "Addition:\n",
            " [[ 6  8]\n",
            " [10 12]]\n",
            "Subtraction:\n",
            " [[-4 -4]\n",
            " [-4 -4]]\n",
            "Element-wise Multiplication:\n",
            " [[ 5 12]\n",
            " [21 32]]\n",
            "Element-wise Division:\n",
            " [[0.2        0.33333333]\n",
            " [0.42857143 0.5       ]]\n",
            "Dot Product:\n",
            " [[19 22]\n",
            " [43 50]]\n",
            "Matrix Multiplication (matmul):\n",
            " [[19 22]\n",
            " [43 50]]\n",
            "Transpose of x:\n",
            " [[1 3]\n",
            " [2 4]]\n",
            "Inverse of x:\n",
            " [[-2.   1. ]\n",
            " [ 1.5 -0.5]]\n",
            "Determinant of x:\n",
            " -2.0000000000000004\n",
            "Rank of x:\n",
            " 2\n",
            "Eigenvalues and Eigenvectors of x:\n",
            " EigResult(eigenvalues=array([-0.37228132,  5.37228132]), eigenvectors=array([[-0.82456484, -0.41597356],\n",
            "       [ 0.56576746, -0.90937671]]))\n",
            "Singular Value Decomposition (SVD) of x:\n",
            " SVDResult(U=array([[-0.40455358, -0.9145143 ],\n",
            "       [-0.9145143 ,  0.40455358]]), S=array([5.4649857 , 0.36596619]), Vh=array([[-0.57604844, -0.81741556],\n",
            "       [ 0.81741556, -0.57604844]]))\n",
            "Cholesky Decomposition of x + I:\n",
            " [[1.41421356 0.        ]\n",
            " [2.12132034 0.70710678]]\n",
            "QR Decomposition of x:\n",
            " QRResult(Q=array([[-0.31622777, -0.9486833 ],\n",
            "       [-0.9486833 ,  0.31622777]]), R=array([[-3.16227766, -4.42718872],\n",
            "       [ 0.        , -0.63245553]]))\n",
            "Solve Ax = y:\n",
            " [[-3. -4.]\n",
            " [ 4.  5.]]\n",
            "Least Squares solution:\n",
            " (array([[-3., -4.],\n",
            "       [ 4.,  5.]]), array([], dtype=float64), np.int32(2), array([5.4649857 , 0.36596619]))\n",
            "Pseudo-inverse of x:\n",
            " [[-2.   1. ]\n",
            " [ 1.5 -0.5]]\n",
            "Norm of x:\n",
            " 5.477225575051661\n",
            "Condition number of x:\n",
            " 14.933034373659268\n",
            "Sign and log(det(x)):\n",
            " SlogdetResult(sign=np.float64(-1.0), logabsdet=np.float64(0.6931471805599455))\n"
          ]
        }
      ]
    },
    {
      "cell_type": "code",
      "source": [],
      "metadata": {
        "id": "SvLUvoPo1Hid"
      },
      "execution_count": null,
      "outputs": []
    }
  ]
}